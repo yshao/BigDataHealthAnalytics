{
 "cells": [
  {
   "cell_type": "code",
   "execution_count": 1,
   "metadata": {},
   "outputs": [],
   "source": [
    "from pyspark.sql import SparkSession\n",
    "from pyspark.sql.types import *\n",
    "from pyspark.sql.functions import *\n",
    "\n",
    "spark = SparkSession \\\n",
    "    .builder \\\n",
    "    .appName(\"baseline\") \\\n",
    "    .getOrCreate()"
   ]
  },
  {
   "cell_type": "code",
   "execution_count": 3,
   "metadata": {},
   "outputs": [
    {
     "name": "stdout",
     "output_type": "stream",
     "text": [
      "24089\n",
      "6037\n",
      "6120\n"
     ]
    }
   ],
   "source": [
    "# read in the data\n",
    "data_processed_path = '../data_processed/'\n",
    "\n",
    "train_lab_dx = spark.read.format(\"csv\") \\\n",
    "                  .option(\"header\", \"true\") \\\n",
    "                  .option(\"inferSchema\", \"true\") \\\n",
    "            .load(data_processed_path + \"train_final.csv\")\n",
    "            \n",
    "validation_lab_dx = spark.read.format(\"csv\") \\\n",
    "                  .option(\"header\", \"true\") \\\n",
    "                  .option(\"inferSchema\", \"true\") \\\n",
    "            .load(data_processed_path + \"validation_final.csv\")\n",
    "\n",
    "test_lab_dx = spark.read.format(\"csv\") \\\n",
    "                  .option(\"header\", \"true\") \\\n",
    "                  .option(\"inferSchema\", \"true\") \\\n",
    "            .load(data_processed_path + \"test_final.csv\")\n",
    "\n",
    "print(train_lab_dx.count())\n",
    "print(validation_lab_dx.count())\n",
    "print(test_lab_dx.count())\n",
    "# train_lab_dx.schema"
   ]
  },
  {
   "cell_type": "code",
   "execution_count": 4,
   "metadata": {
    "scrolled": false
   },
   "outputs": [
    {
     "name": "stdout",
     "output_type": "stream",
     "text": [
      "num without readmission 21536\n",
      "num readmission 2553\n",
      "total 24089\n",
      "upsample_amount: 9\n",
      "num without readmission 5430\n",
      "num readmission 607\n",
      "total 6037\n",
      "upsample_amount: 9\n",
      "num without readmission 5498\n",
      "num readmission 622\n",
      "total 6120\n",
      "upsample_amount: 9\n"
     ]
    }
   ],
   "source": [
    "# transform the data\n",
    "from pyspark.sql.types import *\n",
    "from pyspark.sql.functions import udf\n",
    "from collections import namedtuple\n",
    "\n",
    "# column_names = ['dx231_mean','dx146_mean','dx96_mean','dx85_mean','dx2616_mean','dx225_mean','dx86_mean','dx79_mean','dx40_mean','dx202_mean','dx215_mean','dx94_mean','dx81_mean','dx55_mean','dx655_mean','dx18_mean','dx232_mean','dx141_mean','dx243_mean','dx2613_mean','dx58_mean','dx181_mean','dx80_mean','dx178_mean','dx16_mean','Creatinine_mean','dx77_mean','dx250_mean','dx104_mean','dx124_mean','dx106_mean','dx147_mean','dx17_mean','dx137_mean','dx2619_mean','dx203_mean','dx119_mean','dx236_mean','dx663_mean','dx78_mean','dx2607_mean','Calcium_mean','dx90_mean','dx161_mean','dx91_mean','AST_mean','dx32_mean','dx204_mean','dx2615_mean','dx19_mean','dx83_mean','Potassium_mean','dx49_mean','dx175_mean','dx208_mean','dx97_mean','dx660_mean','dx139_mean','dx659_mean','WBC_mean','dx144_mean','dx2621_mean','dx116_mean','dx126_mean','dx100_mean','dx195_mean','dx29_mean','Bicarbonate_mean','dx229_mean','dx26_mean','dx2_mean','dx242_mean','dx15_mean','dx148_mean','dx131_mean','dx226_mean','dx127_mean','dx98_mean','dx2608_mean','dx166_mean','dx88_mean','dx44_mean','dx62_mean','dx209_mean','dx111_mean','dx120_mean','dx118_mean','dx103_mean','dx654_mean','dx151_mean','dx168_mean','dx125_mean','dx240_mean','dx114_mean','dx158_mean','dx252_mean','dx42_mean','Ammonia_mean','dx92_mean','dx257_mean','dx230_mean','dx76_mean','dx4_mean','dx13_mean','dx108_mean','dx64_mean','ALT_mean','dx129_mean','dx224_mean','dx8_mean','dx39_mean','dx237_mean','dx60_mean','dx5_mean','dx239_mean','dx23_mean','dx171_mean','dx33_mean','dx138_mean','dx123_mean','GENDER','dx653_mean','dx170_mean','dx162_mean','dx246_mean','dx93_mean','dx47_mean','dx6_mean','dx3_mean','dx200_mean','dx206_mean','dx251_mean','dx95_mean','dx241_mean','is_emergency','dx110_mean','dx84_mean','dx197_mean','dx143_mean','pO2_mean','dx211_mean','dx163_mean','dx670_mean','dx37_mean','dx140_mean','dx154_mean','dx121_mean','dx198_mean','dx651_mean','dx245_mean','dx207_mean','dx99_mean','dx50_mean','dx159_mean','dx27_mean','dx164_mean','dx253_mean','Hematocrit_mean','dx122_mean','dx35_mean','dx51_mean','Magnesium_mean','dx63_mean','dx2620_mean','dx22_mean','dx128_mean','dx133_mean','dx87_mean','dx82_mean','dx136_mean','dx201_mean','dx233_mean','dx152_mean','dx255_mean','dx249_mean','dx45_mean','dx135_mean','dx156_mean','Sodium_mean','dx132_mean','dx57_mean','dx228_mean','dx14_mean','dx256_mean','dx652_mean','dx130_mean','dx107_mean','dx234_mean','dx661_mean','dx59_mean','dx102_mean','dx43_mean','dx25_mean','dx213_mean','dx46_mean','dx36_mean','dx105_mean','dx212_mean','dx54_mean','dx112_mean','dx650_mean','dx157_mean','dx115_mean','dx244_mean','dx89_mean','dx117_mean','dx238_mean','dx657_mean','dx248_mean','dx210_mean','dx2618_mean','dx217_mean','dx145_mean','dx2617_mean','dx10_mean','dx48_mean','dx52_mean','Albumin_mean','dx38_mean','dx173_mean','dx155_mean','dx199_mean','dx142_mean','dx658_mean','dx662_mean','dx235_mean','dx101_mean','Temperature_mean','dx53_mean','dx149_mean','dx134_mean','dx24_mean','dx259_mean','dx12_mean','dx11_mean','dx113_mean','dx205_mean','age','dx165_mean','dx109_mean','is_urgent','dx247_mean','dx2603_mean','dx160_mean','dx153_mean','UreaNitrogen_mean','dx7_mean','Bilirubin_mean','pH_mean','admission_LOS_days','readmission']\n",
    "column_names = ['dx231_mean','dx146_mean','dx119_mean','dx85_mean','dx87_mean','Chloride_mean','dx105_mean','dx2613_mean','dx2618_mean','dx136_mean','dx202_mean','dx246_mean','dx215_mean','dx252_mean','dx81_mean','dx154_mean','dx655_mean','dx18_mean','dx96_mean','dx145_mean','dx243_mean','dx58_mean','dx181_mean','dx80_mean','dx178_mean','dx16_mean','Creatinine_mean','dx77_mean','Globulin_mean','dx104_mean','dx124_mean','dx106_mean','dx147_mean','dx17_mean','dx137_mean','dx88_mean','dx91_mean','Triglycerides_mean','Albumin_mean','dx663_mean','dx55_mean','dx78_mean','dx2607_mean','dx90_mean','dx161_mean','dx203_mean','dx32_mean','dx209_mean','dx95_mean','UreaNitrogen_mean','dx2616_mean','dx204_mean','dx2615_mean','dx98_mean','dx19_mean','dx94_mean','dx83_mean','dx108_mean','dx49_mean','dx175_mean','dx208_mean','dx6_mean','dx2619_mean','dx139_mean','dx659_mean','WBC_mean','dx144_mean','dx116_mean','dx126_mean','dx100_mean','dx29_mean','Bicarbonate_mean','dx142_mean','dx26_mean','dx2_mean','dx242_mean','dx15_mean','dx148_mean','dx131_mean','dx226_mean','dx127_mean','dx212_mean','dx2608_mean','dx166_mean','dx241_mean','pCO2_mean','dx62_mean','Glucose_mean','dx111_mean','dx120_mean','dx103_mean','dx654_mean','dx151_mean','dx125_mean','dx114_mean','dx158_mean','dx660_mean','Hemoglobin_mean','dx42_mean','Ammonia_mean','dx92_mean','dx230_mean','dx64_mean','dx76_mean','dx135_mean','dx228_mean','Potassium_mean','dx107_mean','dx129_mean','dx244_mean','dx86_mean','dx8_mean','dx39_mean','dx237_mean','dx225_mean','dx199_mean','dx239_mean','dx23_mean','dx171_mean','dx33_mean','dx138_mean','dx247_mean','dx653_mean','dx170_mean','dx162_mean','Amylase_mean','dx118_mean','dx232_mean','dx134_mean','dx3_mean','dx200_mean','dx206_mean','dx251_mean','dx79_mean','dx650_mean','is_emergency','dx110_mean','dx84_mean','dx197_mean','dx60_mean','pO2_mean','dx44_mean','dx211_mean','dx163_mean','dx670_mean','dx37_mean','dx140_mean','dx93_mean','dx121_mean','dx198_mean','dx651_mean','LOS','dx99_mean','dx50_mean','dx159_mean','dx27_mean','dx164_mean','dx253_mean','Hematocrit_mean','dx122_mean','dx248_mean','GENDER','Magnesium_mean','dx63_mean','dx2620_mean','dx22_mean','dx128_mean','dx133_mean','dx207_mean','dx82_mean','dx168_mean','dx201_mean','dx250_mean','dx233_mean','AsparateAminotransferaseAST_mean','dx152_mean','dx255_mean','dx249_mean','dx45_mean','dx4_mean','dx156_mean','Sodium_mean','dx132_mean','dx57_mean','dx13_mean','dx14_mean','dx256_mean','dx652_mean','dx130_mean','dx165_mean','dx234_mean','dx661_mean','dx59_mean','dx102_mean','dx43_mean','dx245_mean','dx213_mean','dx46_mean','dx36_mean','dx257_mean','dx2621_mean','dx54_mean','dx112_mean','Protein_mean','dx157_mean','dx115_mean','dx97_mean','dx89_mean','dx117_mean','dx238_mean','dx657_mean','dx35_mean','dx210_mean','dx52_mean','dx217_mean','dx141_mean','dx2617_mean','dx10_mean','dx48_mean','dx51_mean','dx236_mean','dx38_mean','dx173_mean','dx155_mean','dx5_mean','dx229_mean','dx658_mean','dx662_mean','dx235_mean','dx101_mean','Temperature_mean','dx53_mean','dx149_mean','dx143_mean','dx47_mean','dx24_mean','dx259_mean','dx12_mean','dx11_mean','dx113_mean','dx205_mean','age','dx25_mean','dx109_mean','is_urgent','dx123_mean','dx2603_mean','dx160_mean','dx153_mean','dx7_mean','pH_mean','dx40_mean','readmission']\n",
    "\n",
    "DataRow = namedtuple(\"DataRow\", column_names + [\"duplicate_labels\"])\n",
    "\n",
    "def organize_values(lab_dx_vals):\n",
    "    lab_dx_rdd = lab_dx_vals.rdd.map(lambda row: (row.SUBJECT_ID, DataRow._make(list(row[1:]) + [[row.readmission]])))\n",
    "\n",
    "    lab_dx_rdd = lab_dx_rdd.map(lambda row: row[1])\n",
    "    # print(lab_dx_rdd.take(1))\n",
    "\n",
    "    # gather some counts so we know how much to upsample\n",
    "    num_without_readmission = lab_dx_rdd.map(lambda x: x.readmission == 0).sum()\n",
    "    num_readmission = lab_dx_rdd.map(lambda x: x.readmission == 1).sum()\n",
    "    print(\"num without readmission %s\" % num_without_readmission)\n",
    "    print(\"num readmission %s\" % num_readmission)\n",
    "    print(\"total %s\" % lab_dx_rdd.count())\n",
    "    upsample_amount = (num_without_readmission // num_readmission) + 1\n",
    "    print(\"upsample_amount: {}\".format(upsample_amount))\n",
    "\n",
    "    def upsample(row):\n",
    "        # 0 is the dominant class so don't need to upsample\n",
    "        if row.readmission == 0:\n",
    "            return row\n",
    "        dup_labels = [row.readmission]*upsample_amount\n",
    "        return DataRow._make(list(row[:-1]) + [dup_labels])\n",
    "\n",
    "    lab_dx_rdd = lab_dx_rdd.map(lambda row: upsample(row))\n",
    "    \n",
    "    return lab_dx_rdd\n",
    "    \n",
    "train_lab_dx_rdd = organize_values(train_lab_dx)\n",
    "validation_lab_dx_rdd = organize_values(validation_lab_dx)\n",
    "test_lab_dx_rdd = organize_values(test_lab_dx)\n",
    "\n",
    "# print(train_lab_dx_rdd.take(1))"
   ]
  },
  {
   "cell_type": "code",
   "execution_count": null,
   "metadata": {},
   "outputs": [],
   "source": []
  },
  {
   "cell_type": "code",
   "execution_count": 5,
   "metadata": {},
   "outputs": [
    {
     "name": "stdout",
     "output_type": "stream",
     "text": [
      "+-----------+-----+\n",
      "|readmission|count|\n",
      "+-----------+-----+\n",
      "|          0|21536|\n",
      "|          1| 2553|\n",
      "+-----------+-----+\n",
      "\n",
      "+-----------+-----+\n",
      "|readmission|count|\n",
      "+-----------+-----+\n",
      "|          0| 5430|\n",
      "|          1|  607|\n",
      "+-----------+-----+\n",
      "\n",
      "+-----------+-----+\n",
      "|readmission|count|\n",
      "+-----------+-----+\n",
      "|          0| 5498|\n",
      "|          1|  622|\n",
      "+-----------+-----+\n",
      "\n",
      "+-----------+-----+\n",
      "|readmission|count|\n",
      "+-----------+-----+\n",
      "|          0|21536|\n",
      "|          1|22977|\n",
      "+-----------+-----+\n",
      "\n",
      "+-----------+-----+\n",
      "|readmission|count|\n",
      "+-----------+-----+\n",
      "|          0| 5430|\n",
      "|          1| 5463|\n",
      "+-----------+-----+\n",
      "\n",
      "+-----------+-----+\n",
      "|readmission|count|\n",
      "+-----------+-----+\n",
      "|          0| 5498|\n",
      "|          1| 5598|\n",
      "+-----------+-----+\n",
      "\n"
     ]
    }
   ],
   "source": [
    "from pyspark.sql.functions import explode\n",
    "\n",
    "train_lab_dx_balanced = train_lab_dx_rdd.toDF()\n",
    "train_lab_dx_balanced.groupBy('readmission').count().show()\n",
    "validation_lab_dx_balanced = validation_lab_dx_rdd.toDF()\n",
    "validation_lab_dx_balanced.groupBy('readmission').count().show()\n",
    "test_lab_dx_balanced = test_lab_dx_rdd.toDF()\n",
    "test_lab_dx_balanced.groupBy('readmission').count().show()\n",
    "\n",
    "# balance the classes\n",
    "train_lab_dx_balanced = train_lab_dx_rdd.toDF().withColumn(\"duplicate_labels\", explode(\"duplicate_labels\"))\n",
    "validation_lab_dx_balanced = validation_lab_dx_rdd.toDF().withColumn(\"duplicate_labels\", explode(\"duplicate_labels\"))\n",
    "test_lab_dx_balanced = test_lab_dx_rdd.toDF().withColumn(\"duplicate_labels\", explode(\"duplicate_labels\"))\n",
    "\n",
    "\n",
    "train_lab_dx_balanced.groupBy('readmission').count().show()\n",
    "validation_lab_dx_balanced.groupBy('readmission').count().show()\n",
    "test_lab_dx_balanced.groupBy('readmission').count().show()"
   ]
  },
  {
   "cell_type": "code",
   "execution_count": null,
   "metadata": {
    "scrolled": true
   },
   "outputs": [],
   "source": []
  },
  {
   "cell_type": "code",
   "execution_count": 6,
   "metadata": {},
   "outputs": [],
   "source": [
    "# train logistic regression\n",
    "from pyspark.mllib.classification import LogisticRegressionWithLBFGS\n",
    "from pyspark.ml.classification import LogisticRegression\n",
    "from pyspark.mllib.evaluation import BinaryClassificationMetrics\n",
    "from pyspark.mllib.regression import LabeledPoint\n",
    "\n",
    "points_train_simple = train_lab_dx_balanced.rdd.map(lambda row: LabeledPoint(row.readmission, \\\n",
    "                                    [row.LOS, row.age, row.GENDER]))\n",
    "points_validation_simple = validation_lab_dx_balanced.rdd.map(lambda row: LabeledPoint(row.readmission, \\\n",
    "                                    [row.LOS, row.age, row.GENDER]))\n",
    "points_test_simple = test_lab_dx_balanced.rdd.map(lambda row: LabeledPoint(row.readmission, \\\n",
    "                                    [row.LOS, row.age, row.GENDER]))\n",
    "\n",
    "log_reg_simple = LogisticRegressionWithLBFGS.train(points_train_simple)\n",
    "\n",
    "\n",
    "# [row.dx231_mean,row.dx146_mean,row.dx96_mean,row.dx85_mean,row.dx2616_mean,row.dx225_mean,row.dx86_mean,row.dx79_mean,row.dx40_mean,row.dx202_mean,row.dx215_mean,row.dx94_mean,row.dx81_mean,row.dx55_mean,row.dx655_mean,row.dx18_mean,row.dx232_mean,row.dx141_mean,row.dx243_mean,row.dx2613_mean,row.dx58_mean,row.dx181_mean,row.dx80_mean,row.dx178_mean,row.dx16_mean,row.Creatinine_mean,row.dx77_mean,row.dx250_mean,row.dx104_mean,row.dx124_mean,row.dx106_mean,row.dx147_mean,row.dx17_mean,row.dx137_mean,row.dx2619_mean,row.dx203_mean,row.dx119_mean,row.dx236_mean,row.dx663_mean,row.dx78_mean,row.dx2607_mean,row.Calcium_mean,row.dx90_mean,row.dx161_mean,row.dx91_mean,row.AST_mean,row.dx32_mean,row.dx204_mean,row.dx2615_mean,row.dx19_mean,row.dx83_mean,row.Potassium_mean,row.dx49_mean,row.dx175_mean,row.dx208_mean,row.dx97_mean,row.dx660_mean,row.dx139_mean,row.dx659_mean,row.WBC_mean,row.dx144_mean,row.dx2621_mean,row.dx116_mean,row.dx126_mean,row.dx100_mean,row.dx195_mean,row.dx29_mean,row.Bicarbonate_mean,row.dx229_mean,row.dx26_mean,row.dx2_mean,row.dx242_mean,row.dx15_mean,row.dx148_mean,row.dx131_mean,row.dx226_mean,row.dx127_mean,row.dx98_mean,row.dx2608_mean,row.dx166_mean,row.dx88_mean,row.dx44_mean,row.dx62_mean,row.dx209_mean,row.dx111_mean,row.dx120_mean,row.dx118_mean,row.dx103_mean,row.dx654_mean,row.dx151_mean,row.dx168_mean,row.dx125_mean,row.dx240_mean,row.dx114_mean,row.dx158_mean,row.dx252_mean,row.dx42_mean,row.Ammonia_mean,row.dx92_mean,row.dx257_mean,row.dx230_mean,row.dx76_mean,row.dx4_mean,row.dx13_mean,row.dx108_mean,row.dx64_mean,row.ALT_mean,row.dx129_mean,row.dx224_mean,row.dx8_mean,row.dx39_mean,row.dx237_mean,row.dx60_mean,row.dx5_mean,row.dx239_mean,row.dx23_mean,row.dx171_mean,row.dx33_mean,row.dx138_mean,row.dx123_mean,row.GENDER,row.dx653_mean,row.dx170_mean,row.dx162_mean,row.dx246_mean,row.dx93_mean,row.dx47_mean,row.dx6_mean,row.dx3_mean,row.dx200_mean,row.dx206_mean,row.dx251_mean,row.dx95_mean,row.dx241_mean,row.is_emergency,row.dx110_mean,row.dx84_mean,row.dx197_mean,row.dx143_mean,row.pO2_mean,row.dx211_mean,row.dx163_mean,row.dx670_mean,row.dx37_mean,row.dx140_mean,row.dx154_mean,row.dx121_mean,row.dx198_mean,row.dx651_mean,row.dx245_mean,row.dx207_mean,row.dx99_mean,row.dx50_mean,row.dx159_mean,row.dx27_mean,row.dx164_mean,row.dx253_mean,row.Hematocrit_mean,row.dx122_mean,row.dx35_mean,row.dx51_mean,row.Magnesium_mean,row.dx63_mean,row.dx2620_mean,row.dx22_mean,row.dx128_mean,row.dx133_mean,row.dx87_mean,row.dx82_mean,row.dx136_mean,row.dx201_mean,row.dx233_mean,row.dx152_mean,row.dx255_mean,row.dx249_mean,row.dx45_mean,row.dx135_mean,row.dx156_mean,row.Sodium_mean,row.dx132_mean,row.dx57_mean,row.dx228_mean,row.dx14_mean,row.dx256_mean,row.dx652_mean,row.dx130_mean,row.dx107_mean,row.dx234_mean,row.dx661_mean,row.dx59_mean,row.dx102_mean,row.dx43_mean,row.dx25_mean,row.dx213_mean,row.dx46_mean,row.dx36_mean,row.dx105_mean,row.dx212_mean,row.dx54_mean,row.dx112_mean,row.dx650_mean,row.dx157_mean,row.dx115_mean,row.dx244_mean,row.dx89_mean,row.dx117_mean,row.dx238_mean,row.dx657_mean,row.dx248_mean,row.dx210_mean,row.dx2618_mean,row.dx217_mean,row.dx145_mean,row.dx2617_mean,row.dx10_mean,row.dx48_mean,row.dx52_mean,row.Albumin_mean,row.dx38_mean,row.dx173_mean,row.dx155_mean,row.dx199_mean,row.dx142_mean,row.dx658_mean,row.dx662_mean,row.dx235_mean,row.dx101_mean,row.Temperature_mean,row.dx53_mean,row.dx149_mean,row.dx134_mean,row.dx24_mean,row.dx259_mean,row.dx12_mean,row.dx11_mean,row.dx113_mean,row.dx205_mean,row.age,row.dx165_mean,row.dx109_mean,row.is_urgent,row.dx247_mean,row.dx2603_mean,row.dx160_mean,row.dx153_mean,row.UreaNitrogen_mean,row.dx7_mean,row.Bilirubin_mean,row.pH_mean,row.admission_LOS_days]\\\n",
    "points_train_all = train_lab_dx_balanced.rdd.map(lambda row: LabeledPoint(row.readmission, \\\n",
    "                                    [row.dx231_mean,row.dx146_mean,row.dx119_mean,row.dx85_mean,row.dx87_mean,row.Chloride_mean,row.dx105_mean,row.dx2613_mean,row.dx2618_mean,row.dx136_mean,row.dx202_mean,row.dx246_mean,row.dx215_mean,row.dx252_mean,row.dx81_mean,row.dx154_mean,row.dx655_mean,row.dx18_mean,row.dx96_mean,row.dx145_mean,row.dx243_mean,row.dx58_mean,row.dx181_mean,row.dx80_mean,row.dx178_mean,row.dx16_mean,row.Creatinine_mean,row.dx77_mean,row.Globulin_mean,row.dx104_mean,row.dx124_mean,row.dx106_mean,row.dx147_mean,row.dx17_mean,row.dx137_mean,row.dx88_mean,row.dx91_mean,row.Triglycerides_mean,row.Albumin_mean,row.dx663_mean,row.dx55_mean,row.dx78_mean,row.pCO2_mean,row.dx90_mean,row.dx161_mean,row.dx203_mean,row.dx32_mean,row.dx209_mean,row.dx95_mean,row.UreaNitrogen_mean,row.dx2616_mean,row.dx204_mean,row.dx2615_mean,row.dx98_mean,row.dx19_mean,row.dx94_mean,row.dx83_mean,row.dx108_mean,row.dx49_mean,row.dx175_mean,row.dx208_mean,row.dx6_mean,row.dx2619_mean,row.dx139_mean,row.dx659_mean,row.WBC_mean,row.dx144_mean,row.dx116_mean,row.dx126_mean,row.dx100_mean,row.dx29_mean,row.Bicarbonate_mean,row.dx142_mean,row.dx26_mean,row.dx2_mean,row.dx242_mean,row.dx15_mean,row.dx148_mean,row.dx131_mean,row.dx226_mean,row.dx127_mean,row.dx212_mean,row.dx2608_mean,row.dx166_mean,row.dx241_mean,row.dx2607_mean,row.dx62_mean,row.Glucose_mean,row.dx111_mean,row.dx120_mean,row.dx103_mean,row.dx654_mean,row.dx151_mean,row.dx125_mean,row.dx114_mean,row.dx158_mean,row.dx660_mean,row.Hemoglobin_mean,row.dx42_mean,row.Ammonia_mean,row.dx92_mean,row.dx230_mean,row.dx64_mean,row.dx76_mean,row.dx135_mean,row.dx228_mean,row.Potassium_mean,row.dx107_mean,row.dx129_mean,row.dx244_mean,row.dx86_mean,row.dx8_mean,row.dx39_mean,row.dx237_mean,row.dx225_mean,row.dx199_mean,row.dx239_mean,row.dx23_mean,row.dx171_mean,row.dx33_mean,row.dx138_mean,row.dx247_mean,row.dx653_mean,row.dx170_mean,row.dx162_mean,row.Amylase_mean,row.dx118_mean,row.dx232_mean,row.dx134_mean,row.dx3_mean,row.dx200_mean,row.dx206_mean,row.dx251_mean,row.dx79_mean,row.dx650_mean,row.is_emergency,row.dx110_mean,row.dx84_mean,row.dx197_mean,row.dx60_mean,row.pO2_mean,row.dx44_mean,row.dx211_mean,row.dx163_mean,row.dx670_mean,row.dx37_mean,row.dx140_mean,row.dx93_mean,row.dx121_mean,row.dx198_mean,row.dx651_mean,row.LOS,row.dx99_mean,row.dx50_mean,row.dx159_mean,row.dx27_mean,row.dx164_mean,row.dx253_mean,row.Hematocrit_mean,row.dx122_mean,row.dx248_mean,row.GENDER,row.Magnesium_mean,row.dx63_mean,row.dx2620_mean,row.dx22_mean,row.dx128_mean,row.dx133_mean,row.dx207_mean,row.dx82_mean,row.dx168_mean,row.dx201_mean,row.dx250_mean,row.dx233_mean,row.AsparateAminotransferaseAST_mean,row.dx152_mean,row.dx255_mean,row.dx249_mean,row.dx45_mean,row.dx4_mean,row.dx156_mean,row.Sodium_mean,row.dx132_mean,row.dx57_mean,row.dx13_mean,row.dx14_mean,row.dx256_mean,row.dx652_mean,row.dx130_mean,row.dx165_mean,row.dx234_mean,row.dx661_mean,row.dx59_mean,row.dx102_mean,row.dx43_mean,row.dx245_mean,row.dx213_mean,row.dx46_mean,row.dx36_mean,row.dx257_mean,row.dx2621_mean,row.dx54_mean,row.dx112_mean,row.Protein_mean,row.dx157_mean,row.dx115_mean,row.dx97_mean,row.dx89_mean,row.dx117_mean,row.dx238_mean,row.dx657_mean,row.dx35_mean,row.dx210_mean,row.dx52_mean,row.dx217_mean,row.dx141_mean,row.dx2617_mean,row.dx10_mean,row.dx48_mean,row.dx51_mean,row.dx236_mean,row.dx38_mean,row.dx173_mean,row.dx155_mean,row.dx5_mean,row.dx229_mean,row.dx658_mean,row.dx662_mean,row.dx235_mean,row.dx101_mean,row.Temperature_mean,row.dx53_mean,row.dx149_mean,row.dx143_mean,row.dx47_mean,row.dx24_mean,row.dx259_mean,row.dx12_mean,row.dx11_mean,row.dx113_mean,row.dx205_mean,row.age,row.dx25_mean,row.dx109_mean,row.is_urgent,row.dx123_mean,row.dx2603_mean,row.dx160_mean,row.dx153_mean,row.dx7_mean,row.pH_mean,row.dx40_mean]))\n",
    "points_validation_all = validation_lab_dx_balanced.rdd.map(lambda row: LabeledPoint(row.readmission, \\\n",
    "                                    [row.dx231_mean,row.dx146_mean,row.dx119_mean,row.dx85_mean,row.dx87_mean,row.Chloride_mean,row.dx105_mean,row.dx2613_mean,row.dx2618_mean,row.dx136_mean,row.dx202_mean,row.dx246_mean,row.dx215_mean,row.dx252_mean,row.dx81_mean,row.dx154_mean,row.dx655_mean,row.dx18_mean,row.dx96_mean,row.dx145_mean,row.dx243_mean,row.dx58_mean,row.dx181_mean,row.dx80_mean,row.dx178_mean,row.dx16_mean,row.Creatinine_mean,row.dx77_mean,row.Globulin_mean,row.dx104_mean,row.dx124_mean,row.dx106_mean,row.dx147_mean,row.dx17_mean,row.dx137_mean,row.dx88_mean,row.dx91_mean,row.Triglycerides_mean,row.Albumin_mean,row.dx663_mean,row.dx55_mean,row.dx78_mean,row.pCO2_mean,row.dx90_mean,row.dx161_mean,row.dx203_mean,row.dx32_mean,row.dx209_mean,row.dx95_mean,row.UreaNitrogen_mean,row.dx2616_mean,row.dx204_mean,row.dx2615_mean,row.dx98_mean,row.dx19_mean,row.dx94_mean,row.dx83_mean,row.dx108_mean,row.dx49_mean,row.dx175_mean,row.dx208_mean,row.dx6_mean,row.dx2619_mean,row.dx139_mean,row.dx659_mean,row.WBC_mean,row.dx144_mean,row.dx116_mean,row.dx126_mean,row.dx100_mean,row.dx29_mean,row.Bicarbonate_mean,row.dx142_mean,row.dx26_mean,row.dx2_mean,row.dx242_mean,row.dx15_mean,row.dx148_mean,row.dx131_mean,row.dx226_mean,row.dx127_mean,row.dx212_mean,row.dx2608_mean,row.dx166_mean,row.dx241_mean,row.dx2607_mean,row.dx62_mean,row.Glucose_mean,row.dx111_mean,row.dx120_mean,row.dx103_mean,row.dx654_mean,row.dx151_mean,row.dx125_mean,row.dx114_mean,row.dx158_mean,row.dx660_mean,row.Hemoglobin_mean,row.dx42_mean,row.Ammonia_mean,row.dx92_mean,row.dx230_mean,row.dx64_mean,row.dx76_mean,row.dx135_mean,row.dx228_mean,row.Potassium_mean,row.dx107_mean,row.dx129_mean,row.dx244_mean,row.dx86_mean,row.dx8_mean,row.dx39_mean,row.dx237_mean,row.dx225_mean,row.dx199_mean,row.dx239_mean,row.dx23_mean,row.dx171_mean,row.dx33_mean,row.dx138_mean,row.dx247_mean,row.dx653_mean,row.dx170_mean,row.dx162_mean,row.Amylase_mean,row.dx118_mean,row.dx232_mean,row.dx134_mean,row.dx3_mean,row.dx200_mean,row.dx206_mean,row.dx251_mean,row.dx79_mean,row.dx650_mean,row.is_emergency,row.dx110_mean,row.dx84_mean,row.dx197_mean,row.dx60_mean,row.pO2_mean,row.dx44_mean,row.dx211_mean,row.dx163_mean,row.dx670_mean,row.dx37_mean,row.dx140_mean,row.dx93_mean,row.dx121_mean,row.dx198_mean,row.dx651_mean,row.LOS,row.dx99_mean,row.dx50_mean,row.dx159_mean,row.dx27_mean,row.dx164_mean,row.dx253_mean,row.Hematocrit_mean,row.dx122_mean,row.dx248_mean,row.GENDER,row.Magnesium_mean,row.dx63_mean,row.dx2620_mean,row.dx22_mean,row.dx128_mean,row.dx133_mean,row.dx207_mean,row.dx82_mean,row.dx168_mean,row.dx201_mean,row.dx250_mean,row.dx233_mean,row.AsparateAminotransferaseAST_mean,row.dx152_mean,row.dx255_mean,row.dx249_mean,row.dx45_mean,row.dx4_mean,row.dx156_mean,row.Sodium_mean,row.dx132_mean,row.dx57_mean,row.dx13_mean,row.dx14_mean,row.dx256_mean,row.dx652_mean,row.dx130_mean,row.dx165_mean,row.dx234_mean,row.dx661_mean,row.dx59_mean,row.dx102_mean,row.dx43_mean,row.dx245_mean,row.dx213_mean,row.dx46_mean,row.dx36_mean,row.dx257_mean,row.dx2621_mean,row.dx54_mean,row.dx112_mean,row.Protein_mean,row.dx157_mean,row.dx115_mean,row.dx97_mean,row.dx89_mean,row.dx117_mean,row.dx238_mean,row.dx657_mean,row.dx35_mean,row.dx210_mean,row.dx52_mean,row.dx217_mean,row.dx141_mean,row.dx2617_mean,row.dx10_mean,row.dx48_mean,row.dx51_mean,row.dx236_mean,row.dx38_mean,row.dx173_mean,row.dx155_mean,row.dx5_mean,row.dx229_mean,row.dx658_mean,row.dx662_mean,row.dx235_mean,row.dx101_mean,row.Temperature_mean,row.dx53_mean,row.dx149_mean,row.dx143_mean,row.dx47_mean,row.dx24_mean,row.dx259_mean,row.dx12_mean,row.dx11_mean,row.dx113_mean,row.dx205_mean,row.age,row.dx25_mean,row.dx109_mean,row.is_urgent,row.dx123_mean,row.dx2603_mean,row.dx160_mean,row.dx153_mean,row.dx7_mean,row.pH_mean,row.dx40_mean]))\n",
    "points_test_all = test_lab_dx_balanced.rdd.map(lambda row: LabeledPoint(row.readmission, \\\n",
    "                                    [row.dx231_mean,row.dx146_mean,row.dx119_mean,row.dx85_mean,row.dx87_mean,row.Chloride_mean,row.dx105_mean,row.dx2613_mean,row.dx2618_mean,row.dx136_mean,row.dx202_mean,row.dx246_mean,row.dx215_mean,row.dx252_mean,row.dx81_mean,row.dx154_mean,row.dx655_mean,row.dx18_mean,row.dx96_mean,row.dx145_mean,row.dx243_mean,row.dx58_mean,row.dx181_mean,row.dx80_mean,row.dx178_mean,row.dx16_mean,row.Creatinine_mean,row.dx77_mean,row.Globulin_mean,row.dx104_mean,row.dx124_mean,row.dx106_mean,row.dx147_mean,row.dx17_mean,row.dx137_mean,row.dx88_mean,row.dx91_mean,row.Triglycerides_mean,row.Albumin_mean,row.dx663_mean,row.dx55_mean,row.dx78_mean,row.pCO2_mean,row.dx90_mean,row.dx161_mean,row.dx203_mean,row.dx32_mean,row.dx209_mean,row.dx95_mean,row.UreaNitrogen_mean,row.dx2616_mean,row.dx204_mean,row.dx2615_mean,row.dx98_mean,row.dx19_mean,row.dx94_mean,row.dx83_mean,row.dx108_mean,row.dx49_mean,row.dx175_mean,row.dx208_mean,row.dx6_mean,row.dx2619_mean,row.dx139_mean,row.dx659_mean,row.WBC_mean,row.dx144_mean,row.dx116_mean,row.dx126_mean,row.dx100_mean,row.dx29_mean,row.Bicarbonate_mean,row.dx142_mean,row.dx26_mean,row.dx2_mean,row.dx242_mean,row.dx15_mean,row.dx148_mean,row.dx131_mean,row.dx226_mean,row.dx127_mean,row.dx212_mean,row.dx2608_mean,row.dx166_mean,row.dx241_mean,row.dx2607_mean,row.dx62_mean,row.Glucose_mean,row.dx111_mean,row.dx120_mean,row.dx103_mean,row.dx654_mean,row.dx151_mean,row.dx125_mean,row.dx114_mean,row.dx158_mean,row.dx660_mean,row.Hemoglobin_mean,row.dx42_mean,row.Ammonia_mean,row.dx92_mean,row.dx230_mean,row.dx64_mean,row.dx76_mean,row.dx135_mean,row.dx228_mean,row.Potassium_mean,row.dx107_mean,row.dx129_mean,row.dx244_mean,row.dx86_mean,row.dx8_mean,row.dx39_mean,row.dx237_mean,row.dx225_mean,row.dx199_mean,row.dx239_mean,row.dx23_mean,row.dx171_mean,row.dx33_mean,row.dx138_mean,row.dx247_mean,row.dx653_mean,row.dx170_mean,row.dx162_mean,row.Amylase_mean,row.dx118_mean,row.dx232_mean,row.dx134_mean,row.dx3_mean,row.dx200_mean,row.dx206_mean,row.dx251_mean,row.dx79_mean,row.dx650_mean,row.is_emergency,row.dx110_mean,row.dx84_mean,row.dx197_mean,row.dx60_mean,row.pO2_mean,row.dx44_mean,row.dx211_mean,row.dx163_mean,row.dx670_mean,row.dx37_mean,row.dx140_mean,row.dx93_mean,row.dx121_mean,row.dx198_mean,row.dx651_mean,row.LOS,row.dx99_mean,row.dx50_mean,row.dx159_mean,row.dx27_mean,row.dx164_mean,row.dx253_mean,row.Hematocrit_mean,row.dx122_mean,row.dx248_mean,row.GENDER,row.Magnesium_mean,row.dx63_mean,row.dx2620_mean,row.dx22_mean,row.dx128_mean,row.dx133_mean,row.dx207_mean,row.dx82_mean,row.dx168_mean,row.dx201_mean,row.dx250_mean,row.dx233_mean,row.AsparateAminotransferaseAST_mean,row.dx152_mean,row.dx255_mean,row.dx249_mean,row.dx45_mean,row.dx4_mean,row.dx156_mean,row.Sodium_mean,row.dx132_mean,row.dx57_mean,row.dx13_mean,row.dx14_mean,row.dx256_mean,row.dx652_mean,row.dx130_mean,row.dx165_mean,row.dx234_mean,row.dx661_mean,row.dx59_mean,row.dx102_mean,row.dx43_mean,row.dx245_mean,row.dx213_mean,row.dx46_mean,row.dx36_mean,row.dx257_mean,row.dx2621_mean,row.dx54_mean,row.dx112_mean,row.Protein_mean,row.dx157_mean,row.dx115_mean,row.dx97_mean,row.dx89_mean,row.dx117_mean,row.dx238_mean,row.dx657_mean,row.dx35_mean,row.dx210_mean,row.dx52_mean,row.dx217_mean,row.dx141_mean,row.dx2617_mean,row.dx10_mean,row.dx48_mean,row.dx51_mean,row.dx236_mean,row.dx38_mean,row.dx173_mean,row.dx155_mean,row.dx5_mean,row.dx229_mean,row.dx658_mean,row.dx662_mean,row.dx235_mean,row.dx101_mean,row.Temperature_mean,row.dx53_mean,row.dx149_mean,row.dx143_mean,row.dx47_mean,row.dx24_mean,row.dx259_mean,row.dx12_mean,row.dx11_mean,row.dx113_mean,row.dx205_mean,row.age,row.dx25_mean,row.dx109_mean,row.is_urgent,row.dx123_mean,row.dx2603_mean,row.dx160_mean,row.dx153_mean,row.dx7_mean,row.pH_mean,row.dx40_mean]))\n",
    "\n",
    "\n",
    "# readmission_position = 28\n",
    "# points_train_all = train_lab_dx_balanced.rdd.map(lambda row: LabeledPoint(row.readmission, \\\n",
    "#                                     list(row)[:readmission_position] + list(row)[readmission_position+1:]))\n",
    "# points_validation_all = validation_lab_dx_balanced.rdd.map(lambda row: LabeledPoint(row.readmission, \\\n",
    "#                                     list(row)[:readmission_position] + list(row)[readmission_position+1:]))\n",
    "# points_test_all = test_lab_dx_balanced.rdd.map(lambda row: LabeledPoint(row.readmission, \\\n",
    "#                                     list(row)[:readmission_position] + list(row)[readmission_position+1:]))\n",
    "\n",
    "log_reg_all = LogisticRegressionWithLBFGS.train(points_train_all)\n"
   ]
  },
  {
   "cell_type": "code",
   "execution_count": null,
   "metadata": {},
   "outputs": [],
   "source": []
  },
  {
   "cell_type": "code",
   "execution_count": 7,
   "metadata": {
    "scrolled": true
   },
   "outputs": [
    {
     "name": "stdout",
     "output_type": "stream",
     "text": [
      "train logistic regression 3 features\n",
      "Num predict class 0: 21574\n",
      "Num predict class 1: 22939\n",
      "Accuracy = 0.5633185810886707\n",
      "Area under precision-recall curve = 0.6860459006088558\n",
      "Area under ROC curve = 0.5628881312024604\n",
      "\n",
      "validation logistic regression 3 features\n",
      "Num predict class 0: 5320\n",
      "Num predict class 1: 5573\n",
      "Accuracy = 0.5536583126778665\n",
      "Area under precision-recall curve = 0.6685582768390615\n",
      "Area under ROC curve = 0.5536236237147338\n",
      "\n",
      "test logistic regression 3 features\n",
      "Num predict class 0: 5264\n",
      "Num predict class 1: 5832\n",
      "Accuracy = 0.5717375630857967\n",
      "Area under precision-recall curve = 0.6862903824299297\n",
      "Area under ROC curve = 0.5715127044151688\n",
      "\n",
      "train logistic regression\n",
      "Num predict class 0: 20256\n",
      "Num predict class 1: 24257\n",
      "Accuracy = 0.6404645833801361\n",
      "Area under precision-recall curve = 0.7443571142633225\n",
      "Area under ROC curve = 0.6391555305386141\n",
      "\n",
      "validation logistic regression\n",
      "Num predict class 0: 5151\n",
      "Num predict class 1: 5742\n",
      "Accuracy = 0.6240705039933903\n",
      "Area under precision-recall curve = 0.7225109832691455\n",
      "Area under ROC curve = 0.6239894599834345\n",
      "\n",
      "test logistic regression\n",
      "Num predict class 0: 5296\n",
      "Num predict class 1: 5800\n",
      "Accuracy = 0.6086878154289834\n",
      "Area under precision-recall curve = 0.7125273277522826\n",
      "Area under ROC curve = 0.6084919508877242\n"
     ]
    }
   ],
   "source": [
    "def check_results_calc(predictionAndLabels):    \n",
    "    print(\"Num predict class 0: %s\" % predictionAndLabels.map(lambda x: x[0] == 0.0).sum())\n",
    "    print(\"Num predict class 1: %s\" % predictionAndLabels.map(lambda x: x[0] == 1.0).sum())\n",
    "\n",
    "    num_correct = predictionAndLabels.map(lambda x: x[0] == x[1]).sum()\n",
    "    accuracy = num_correct / predictionAndLabels.count()\n",
    "    print(\"Accuracy = %s\" % accuracy)\n",
    "\n",
    "    metrics = BinaryClassificationMetrics(predictionAndLabels)\n",
    "\n",
    "    print(\"Area under precision-recall curve = %s\" % metrics.areaUnderPR)\n",
    "\n",
    "    print(\"Area under ROC curve = %s\" % metrics.areaUnderROC)\n",
    "\n",
    "# check results\n",
    "def check_results(log_reg_model, point_vals):    \n",
    "    predictionAndLabels = point_vals.map(lambda lp: (float(log_reg_model.predict(lp.features)), lp.label))\n",
    "    check_results_calc(predictionAndLabels)\n",
    "    \n",
    "print('train logistic regression 3 features')\n",
    "check_results(log_reg_simple, points_train_simple)\n",
    "print('\\nvalidation logistic regression 3 features')\n",
    "check_results(log_reg_simple, points_validation_simple)\n",
    "print('\\ntest logistic regression 3 features')\n",
    "check_results(log_reg_simple, points_test_simple)\n",
    "\n",
    "print('\\ntrain logistic regression')\n",
    "check_results(log_reg_all, points_train_all)\n",
    "print('\\nvalidation logistic regression')\n",
    "check_results(log_reg_all, points_validation_all)\n",
    "print('\\ntest logistic regression')\n",
    "check_results(log_reg_all, points_test_all)"
   ]
  },
  {
   "cell_type": "code",
   "execution_count": null,
   "metadata": {},
   "outputs": [],
   "source": []
  },
  {
   "cell_type": "code",
   "execution_count": null,
   "metadata": {},
   "outputs": [],
   "source": []
  },
  {
   "cell_type": "code",
   "execution_count": null,
   "metadata": {},
   "outputs": [],
   "source": []
  },
  {
   "cell_type": "code",
   "execution_count": 8,
   "metadata": {},
   "outputs": [],
   "source": [
    "from pyspark.ml.linalg import VectorUDT\n",
    "from pyspark.sql.functions import udf\n",
    "\n",
    "as_ml = udf(lambda v: v.asML() if v is not None else None, VectorUDT())\n",
    "\n",
    "data_train=spark.createDataFrame(points_train_all, ['features', 'label']).withColumn('newfeatures',as_ml(col('features')))\n",
    "data_validation=spark.createDataFrame(points_validation_all, ['features', 'label']).withColumn('newfeatures',as_ml(col('features')))\n",
    "data_test=spark.createDataFrame(points_test_all, ['features', 'label']).withColumn('newfeatures',as_ml(col('features')))"
   ]
  },
  {
   "cell_type": "code",
   "execution_count": null,
   "metadata": {},
   "outputs": [],
   "source": []
  },
  {
   "cell_type": "code",
   "execution_count": 9,
   "metadata": {
    "scrolled": true
   },
   "outputs": [],
   "source": [
    "from pyspark.ml import *\n",
    "from pyspark.ml.classification import *\n",
    "from pyspark.ml.feature import *\n",
    "from pyspark.ml.evaluation import *\n",
    "from pyspark.ml.feature import *\n",
    "\n"
   ]
  },
  {
   "cell_type": "code",
   "execution_count": 10,
   "metadata": {},
   "outputs": [
    {
     "name": "stdout",
     "output_type": "stream",
     "text": [
      "44513\n",
      "10893\n",
      "11096\n"
     ]
    }
   ],
   "source": [
    "print(data_train.count())\n",
    "print(data_validation.count())\n",
    "print(data_test.count())"
   ]
  },
  {
   "cell_type": "code",
   "execution_count": 11,
   "metadata": {},
   "outputs": [
    {
     "data": {
      "text/plain": [
       "[Row(features=DenseVector([0.0, 0.0, 0.0, 0.0, 0.0, 104.25, 105.0, 0.0, 0.0, 0.0, 0.0, 0.0, 0.0, 0.0, 0.0, 0.0, 0.0, 0.0, 96.0, 0.0, 0.0, 0.0, 0.0, 0.0, 0.0, 0.0, 0.7125, 0.0, 2.749, 0.0, 0.0, 106.0, 0.0, 0.0, 0.0, 0.0, 0.0, 163.6682, 2.9546, 0.0, 0.0, 0.0, 0.0, 0.0, 0.0, 0.0, 0.0, 0.0, 0.0, 21.75, 0.0, 0.0, 0.0, 0.0, 0.0, 0.0, 0.0, 0.0, 0.0, 0.0, 0.0, 0.0, 0.0, 0.0, 0.0, 19.5101, 0.0, 0.0, 0.0, 0.0, 0.0, 24.125, 0.0, 0.0, 0.0, 0.0, 0.0, 0.0, 0.0, 0.0, 0.0, 0.0, 0.0, 0.0, 0.0, 41.3209, 0.0, 107.3771, 0.0, 0.0, 0.0, 0.0, 0.0, 0.0, 0.0, 0.0, 0.0, 11.5076, 0.0, 59.9429, 0.0, 0.0, 0.0, 0.0, 0.0, 0.0, 4.0265, 0.0, 0.0, 0.0, 0.0, 0.0, 0.0, 237.0, 0.0, 0.0, 0.0, 0.0, 0.0, 0.0, 0.0, 0.0, 0.0, 0.0, 0.0, 106.1954, 0.0, 0.0, 0.0, 0.0, 0.0, 0.0, 0.0, 0.0, 0.0, 0.0, 0.0, 0.0, 0.0, 0.0, 100.5405, 0.0, 0.0, 0.0, 0.0, 0.0, 0.0, 0.0, 0.0, 0.0, 0.0, 7.0, 0.0, 0.0, 0.0, 0.0, 0.0, 0.0, 31.9875, 0.0, 0.0, 1.0, 2.2875, 0.0, 0.0, 0.0, 0.0, 0.0, 0.0, 0.0, 0.0, 0.0, 0.0, 0.0, 138.8243, 0.0, 0.0, 0.0, 0.0, 0.0, 0.0, 139.25, 0.0, 0.0, 0.0, 0.0, 0.0, 0.0, 0.0, 0.0, 0.0, 0.0, 0.0, 0.0, 0.0, 0.0, 0.0, 0.0, 0.0, 0.0, 0.0, 0.0, 0.0, 82.5341, 0.0, 0.0, 0.0, 0.0, 0.0, 0.0, 0.0, 0.0, 0.0, 0.0, 0.0, 0.0, 0.0, 0.0, 0.0, 0.0, 0.0, 0.0, 0.0, 0.0, 0.0, 0.0, 0.0, 0.0, 0.0, 0.0, 37.1816, 0.0, 0.0, 0.0, 0.0, 0.0, 0.0, 0.0, 0.0, 0.0, 0.0, 72.0, 0.0, 0.0, 0.0, 0.0, 0.0, 0.0, 0.0, 0.0, 7.2832, 0.0]), label=0.0, newfeatures=DenseVector([0.0, 0.0, 0.0, 0.0, 0.0, 104.25, 105.0, 0.0, 0.0, 0.0, 0.0, 0.0, 0.0, 0.0, 0.0, 0.0, 0.0, 0.0, 96.0, 0.0, 0.0, 0.0, 0.0, 0.0, 0.0, 0.0, 0.7125, 0.0, 2.749, 0.0, 0.0, 106.0, 0.0, 0.0, 0.0, 0.0, 0.0, 163.6682, 2.9546, 0.0, 0.0, 0.0, 0.0, 0.0, 0.0, 0.0, 0.0, 0.0, 0.0, 21.75, 0.0, 0.0, 0.0, 0.0, 0.0, 0.0, 0.0, 0.0, 0.0, 0.0, 0.0, 0.0, 0.0, 0.0, 0.0, 19.5101, 0.0, 0.0, 0.0, 0.0, 0.0, 24.125, 0.0, 0.0, 0.0, 0.0, 0.0, 0.0, 0.0, 0.0, 0.0, 0.0, 0.0, 0.0, 0.0, 41.3209, 0.0, 107.3771, 0.0, 0.0, 0.0, 0.0, 0.0, 0.0, 0.0, 0.0, 0.0, 11.5076, 0.0, 59.9429, 0.0, 0.0, 0.0, 0.0, 0.0, 0.0, 4.0265, 0.0, 0.0, 0.0, 0.0, 0.0, 0.0, 237.0, 0.0, 0.0, 0.0, 0.0, 0.0, 0.0, 0.0, 0.0, 0.0, 0.0, 0.0, 106.1954, 0.0, 0.0, 0.0, 0.0, 0.0, 0.0, 0.0, 0.0, 0.0, 0.0, 0.0, 0.0, 0.0, 0.0, 100.5405, 0.0, 0.0, 0.0, 0.0, 0.0, 0.0, 0.0, 0.0, 0.0, 0.0, 7.0, 0.0, 0.0, 0.0, 0.0, 0.0, 0.0, 31.9875, 0.0, 0.0, 1.0, 2.2875, 0.0, 0.0, 0.0, 0.0, 0.0, 0.0, 0.0, 0.0, 0.0, 0.0, 0.0, 138.8243, 0.0, 0.0, 0.0, 0.0, 0.0, 0.0, 139.25, 0.0, 0.0, 0.0, 0.0, 0.0, 0.0, 0.0, 0.0, 0.0, 0.0, 0.0, 0.0, 0.0, 0.0, 0.0, 0.0, 0.0, 0.0, 0.0, 0.0, 0.0, 82.5341, 0.0, 0.0, 0.0, 0.0, 0.0, 0.0, 0.0, 0.0, 0.0, 0.0, 0.0, 0.0, 0.0, 0.0, 0.0, 0.0, 0.0, 0.0, 0.0, 0.0, 0.0, 0.0, 0.0, 0.0, 0.0, 0.0, 37.1816, 0.0, 0.0, 0.0, 0.0, 0.0, 0.0, 0.0, 0.0, 0.0, 0.0, 72.0, 0.0, 0.0, 0.0, 0.0, 0.0, 0.0, 0.0, 0.0, 7.2832, 0.0]))]"
      ]
     },
     "execution_count": 11,
     "metadata": {},
     "output_type": "execute_result"
    }
   ],
   "source": [
    "data_train.take(1)"
   ]
  },
  {
   "cell_type": "code",
   "execution_count": 12,
   "metadata": {},
   "outputs": [
    {
     "name": "stdout",
     "output_type": "stream",
     "text": [
      "root\n",
      " |-- features: vector (nullable = true)\n",
      " |-- label: double (nullable = true)\n",
      " |-- newfeatures: vector (nullable = true)\n",
      "\n"
     ]
    }
   ],
   "source": [
    "# a = sc.parallelize(data)\n",
    "data_train.printSchema()"
   ]
  },
  {
   "cell_type": "code",
   "execution_count": 13,
   "metadata": {},
   "outputs": [
    {
     "data": {
      "text/plain": [
       "[Row(label=0.0), Row(label=0.0), Row(label=0.0)]"
      ]
     },
     "execution_count": 13,
     "metadata": {},
     "output_type": "execute_result"
    }
   ],
   "source": [
    "data_train.select(\"label\").take(3)"
   ]
  },
  {
   "cell_type": "code",
   "execution_count": null,
   "metadata": {},
   "outputs": [],
   "source": []
  },
  {
   "cell_type": "code",
   "execution_count": 14,
   "metadata": {},
   "outputs": [
    {
     "name": "stdout",
     "output_type": "stream",
     "text": [
      "RandomForestClassificationModel (uid=RandomForestClassifier_479bba33ff73d16960c2) with 25 trees\n"
     ]
    }
   ],
   "source": [
    "# Random Forest\n",
    "###########\n",
    "from pyspark.mllib.classification import *\n",
    "# Train a RandomForest model.\n",
    "\n",
    "############\n",
    "\n",
    "classifier = RandomForestClassifier(labelCol=\"label\", featuresCol=\"newfeatures\", maxDepth=8, numTrees=25)\n",
    "\n",
    "# Chain indexers and forest in a Pipeline\n",
    "pipeline = Pipeline(stages=[classifier])\n",
    "# classifier.train(data_train)\n",
    "\n",
    "# # Train model.\n",
    "# trainingFeats=data_train.features\n",
    "model = pipeline.fit(data_train)\n",
    "\n",
    "# # Make predictions.\n",
    "# testFeats=data_validation.features\n",
    "predictions_rf_train = model.transform(data_train)\n",
    "predictions_rf_validation = model.transform(data_validation)\n",
    "predictions_rf_test = model.transform(data_test)\n",
    "\n",
    "# # Select example rows to display. Comment it out for GBT\n",
    "# predictions.select(\"prediction\", \"label\", \"probability\").show(5)\n",
    "\n",
    "classifierModel = model.stages[0]\n",
    "print(classifierModel)  # summary only, "
   ]
  },
  {
   "cell_type": "code",
   "execution_count": 15,
   "metadata": {},
   "outputs": [
    {
     "name": "stdout",
     "output_type": "stream",
     "text": [
      "train random forest\n",
      "f1 = 0.706487\n",
      "Accuracy = 0.706445\n",
      "Area under precision-recall curve = 0.788916\n",
      "Area under ROC curve = 0.706308\n",
      "\n",
      "validation random forest\n",
      "f1 = 0.625431\n",
      "Accuracy = 0.626549\n",
      "Area under precision-recall curve = 0.715133\n",
      "Area under ROC curve = 0.626716\n",
      "\n",
      "test random forest\n",
      "f1 = 0.619702\n",
      "Accuracy = 0.620494\n",
      "Area under precision-recall curve = 0.713262\n",
      "Area under ROC curve = 0.620917\n"
     ]
    }
   ],
   "source": [
    "# Select (prediction, true label) and compute test error\n",
    "def print_results(prediction_vals):\n",
    "    evaluator = MulticlassClassificationEvaluator(\n",
    "        labelCol=\"label\", predictionCol=\"prediction\", metricName=\"f1\")\n",
    "    f1=evaluator.evaluate(prediction_vals)\n",
    "    print(\"f1 = %g\" % f1)\n",
    "    \n",
    "    evaluator = MulticlassClassificationEvaluator(\n",
    "        labelCol=\"label\", predictionCol=\"prediction\", metricName=\"accuracy\")\n",
    "    accuracy=evaluator.evaluate(prediction_vals)\n",
    "    print(\"Accuracy = %g\" % accuracy)\n",
    "    \n",
    "    evaluator = BinaryClassificationEvaluator(\n",
    "        labelCol=\"label\", rawPredictionCol=\"prediction\", metricName=\"areaUnderPR\")\n",
    "    areaUnderPR = evaluator.evaluate(prediction_vals)\n",
    "    print(\"Area under precision-recall curve = %g\" % (areaUnderPR))\n",
    "    \n",
    "    evaluator = BinaryClassificationEvaluator(\n",
    "        labelCol=\"label\", rawPredictionCol=\"prediction\", metricName=\"areaUnderROC\")\n",
    "    areaUnderROC = evaluator.evaluate(prediction_vals)\n",
    "    print(\"Area under ROC curve = %g\" % (areaUnderROC))\n",
    "\n",
    "print('train random forest')\n",
    "print_results(predictions_rf_train)\n",
    "print('\\nvalidation random forest')\n",
    "print_results(predictions_rf_validation)\n",
    "print('\\ntest random forest')\n",
    "print_results(predictions_rf_test)"
   ]
  },
  {
   "cell_type": "code",
   "execution_count": 16,
   "metadata": {},
   "outputs": [],
   "source": [
    "# predictions = model.transform(beforeSampledDF)\n",
    "# # Select (prediction, true label) and compute test error\n",
    "evaluator = BinaryClassificationEvaluator(\n",
    "    labelCol=\"label\", rawPredictionCol=\"prediction\", metricName=\"areaUnderROC\")\n",
    "# areaUnderROC = evaluator.evaluate(predictions)\n",
    "\n",
    "# print(\"areaUnderROC = %g\" % (areaUnderROC))"
   ]
  },
  {
   "cell_type": "code",
   "execution_count": 17,
   "metadata": {},
   "outputs": [],
   "source": [
    "# path = '/group/cdac/test/Projects/Lab_Pipeline_rfModel'\n",
    "path = 'Projects/Lab_Pipeline_rfModel'\n",
    "# model.save(path)"
   ]
  },
  {
   "cell_type": "code",
   "execution_count": null,
   "metadata": {},
   "outputs": [],
   "source": []
  },
  {
   "cell_type": "code",
   "execution_count": 18,
   "metadata": {},
   "outputs": [],
   "source": [
    "# Tuning hyperparameters\n",
    "# Create ParamGrid for Cross Validation\n",
    "from pyspark.ml.tuning import ParamGridBuilder, CrossValidator\n",
    "\n",
    "rfc = RandomForestClassifier(labelCol=\"label\", featuresCol=\"newfeatures\")\n",
    "\n",
    "paramGrid = (ParamGridBuilder()\n",
    "             .addGrid(rfc.maxDepth, [8, 10])\n",
    "             .addGrid(rfc.maxBins, [16, 32])\n",
    "             .addGrid(rfc.numTrees, [20, 30])\n",
    "             .build())"
   ]
  },
  {
   "cell_type": "code",
   "execution_count": 19,
   "metadata": {},
   "outputs": [],
   "source": [
    "# Create 3-fold CrossValidator\n",
    "cv = CrossValidator(estimator=rfc, estimatorParamMaps=paramGrid, evaluator=evaluator, numFolds=3)\n",
    "\n",
    "# Run cross validations.  This can take about 15 minutes since it is training over 3x2x3x3 = 54 Random Forests!\n",
    "cvModel = cv.fit(data_train)"
   ]
  },
  {
   "cell_type": "code",
   "execution_count": 20,
   "metadata": {},
   "outputs": [
    {
     "name": "stdout",
     "output_type": "stream",
     "text": [
      "20\n"
     ]
    }
   ],
   "source": [
    "classifierModel = cvModel.bestModel\n",
    "\n",
    "print(classifierModel.getNumTrees)\n",
    "# print(classifierModel.featureImportances)\n",
    "# print(classifierModel.trees)"
   ]
  },
  {
   "cell_type": "code",
   "execution_count": 21,
   "metadata": {},
   "outputs": [
    {
     "name": "stdout",
     "output_type": "stream",
     "text": [
      "train random forest tuned\n",
      "f1 = 0.772068\n",
      "Accuracy = 0.772022\n",
      "Area under precision-recall curve = 0.837345\n",
      "Area under ROC curve = 0.772559\n",
      "\n",
      "validation random forest tuned\n",
      "f1 = 0.618925\n",
      "Accuracy = 0.624438\n",
      "Area under precision-recall curve = 0.709336\n",
      "Area under ROC curve = 0.624803\n",
      "\n",
      "test random forest tuned\n",
      "f1 = 0.607255\n",
      "Accuracy = 0.612833\n",
      "Area under precision-recall curve = 0.701593\n",
      "Area under ROC curve = 0.613918\n"
     ]
    }
   ],
   "source": [
    "### Evaluate tuned random forest ###\n",
    "predictions_rftuned_train = cvModel.transform(data_train)\n",
    "predictions_rftuned_validation = cvModel.transform(data_validation)\n",
    "predictions_rftuned_test = cvModel.transform(data_test)\n",
    "\n",
    "print('train random forest tuned')\n",
    "print_results(predictions_rftuned_train)\n",
    "print('\\nvalidation random forest tuned')\n",
    "print_results(predictions_rftuned_validation)\n",
    "print('\\ntest random forest tuned')\n",
    "print_results(predictions_rftuned_test)\n"
   ]
  },
  {
   "cell_type": "code",
   "execution_count": null,
   "metadata": {},
   "outputs": [],
   "source": []
  },
  {
   "cell_type": "code",
   "execution_count": null,
   "metadata": {},
   "outputs": [],
   "source": []
  },
  {
   "cell_type": "code",
   "execution_count": null,
   "metadata": {},
   "outputs": [],
   "source": []
  },
  {
   "cell_type": "code",
   "execution_count": 22,
   "metadata": {},
   "outputs": [
    {
     "name": "stdout",
     "output_type": "stream",
     "text": [
      "GBTClassificationModel (uid=GBTClassifier_40399dca6297003910b4) with 8 trees\n"
     ]
    }
   ],
   "source": [
    "# gradient boosted tree\n",
    "###########\n",
    "from pyspark.mllib.classification import *\n",
    "# Train a gbt model.\n",
    "\n",
    "############\n",
    "\n",
    "# classifier = GBTClassifier(labelCol=\"label\", featuresCol=\"newfeatures\",maxDepth=20).setMaxIter(20)          #  areaUnderROC = 0.994652, computational intense\n",
    "classifier = GBTClassifier(labelCol=\"label\", featuresCol=\"newfeatures\",maxDepth=8).setMaxIter(8)\n",
    "\n",
    "\n",
    "# Chain indexers and forest in a Pipeline\n",
    "pipeline = Pipeline(stages=[classifier])\n",
    "# classifier.train(data_train)\n",
    "\n",
    "# # Train model.\n",
    "# trainingFeats=data_train.features\n",
    "model = pipeline.fit(data_train)\n",
    "\n",
    "# # Make predictions.\n",
    "# testFeats=data_validation.features\n",
    "predictions_gbt_train = model.transform(data_train)\n",
    "predictions_gbt_validation = model.transform(data_validation)\n",
    "predictions_gbt_test = model.transform(data_test)\n",
    "\n",
    "# # Select example rows to display. Comment it out for GBT\n",
    "# predictions.select(\"prediction\", \"label\", \"probability\").show(5)\n",
    "\n",
    "classifierModel = model.stages[0]\n",
    "print(classifierModel)  # summary only"
   ]
  },
  {
   "cell_type": "code",
   "execution_count": 23,
   "metadata": {},
   "outputs": [
    {
     "name": "stdout",
     "output_type": "stream",
     "text": [
      "train gbt\n",
      "f1 = 0.737279\n",
      "Accuracy = 0.737515\n",
      "Area under precision-recall curve = 0.811443\n",
      "Area under ROC curve = 0.736661\n",
      "\n",
      "validation gbt\n",
      "f1 = 0.601931\n",
      "Accuracy = 0.60369\n",
      "Area under precision-recall curve = 0.695291\n",
      "Area under ROC curve = 0.603893\n",
      "\n",
      "test gbt\n",
      "f1 = 0.605928\n",
      "Accuracy = 0.607606\n",
      "Area under precision-recall curve = 0.700979\n",
      "Area under ROC curve = 0.608205\n"
     ]
    }
   ],
   "source": [
    "print('train gbt')\n",
    "print_results(predictions_gbt_train)\n",
    "print('\\nvalidation gbt')\n",
    "print_results(predictions_gbt_validation)\n",
    "print('\\ntest gbt')\n",
    "print_results(predictions_gbt_test)"
   ]
  },
  {
   "cell_type": "code",
   "execution_count": null,
   "metadata": {},
   "outputs": [],
   "source": []
  },
  {
   "cell_type": "code",
   "execution_count": null,
   "metadata": {},
   "outputs": [],
   "source": []
  },
  {
   "cell_type": "code",
   "execution_count": null,
   "metadata": {},
   "outputs": [],
   "source": []
  },
  {
   "cell_type": "code",
   "execution_count": 24,
   "metadata": {},
   "outputs": [
    {
     "name": "stdout",
     "output_type": "stream",
     "text": [
      "MultilayerPerceptronClassifier_41e08bbe5e7da1850a1e\n"
     ]
    }
   ],
   "source": [
    "from pyspark.mllib.classification import *\n",
    "# Train a MultilayerPerceptronClassifier\n",
    "\n",
    "############\n",
    "layers = [4, 5, 4, 3]\n",
    "\n",
    "# create the trainer and set its parameters\n",
    "classifier = MultilayerPerceptronClassifier(labelCol=\"label\", featuresCol=\"newfeatures\",maxIter=100, layers=layers, blockSize=128, seed=1234)\n",
    "\n",
    "# Chain indexers and forest in a Pipeline\n",
    "pipeline = Pipeline(stages=[classifier])\n",
    "# classifier.train(data_train)\n",
    "\n",
    "# # Train model.\n",
    "# trainingFeats=data_train.features\n",
    "model = pipeline.fit(data_train)\n",
    "\n",
    "# # Make predictions.\n",
    "# testFeats=data_validation.features\n",
    "predictions_mlp_train = model.transform(data_train)\n",
    "predictions_mlp_validation = model.transform(data_validation)\n",
    "predictions_mlp_test = model.transform(data_test)\n",
    "\n",
    "classifierModel = model.stages[0]\n",
    "print(classifierModel)  # summary only"
   ]
  },
  {
   "cell_type": "code",
   "execution_count": 25,
   "metadata": {},
   "outputs": [],
   "source": [
    "# predictions_mlp_validation.take(1)\n",
    "\n",
    "# predictionAndLabels_mlp_validation = predictions_mlp_validation.select(\"prediction\", \"label\").rdd\n",
    "# print('train mlp')\n",
    "# # check_results_calc(predictionAndLabels)\n",
    "# print('\\nvalidation mlp')\n",
    "# check_results_calc(predictionAndLabels_mlp_validation)"
   ]
  },
  {
   "cell_type": "code",
   "execution_count": null,
   "metadata": {},
   "outputs": [],
   "source": []
  },
  {
   "cell_type": "code",
   "execution_count": null,
   "metadata": {},
   "outputs": [],
   "source": []
  },
  {
   "cell_type": "code",
   "execution_count": null,
   "metadata": {},
   "outputs": [],
   "source": []
  }
 ],
 "metadata": {
  "kernelspec": {
   "display_name": "Python 3",
   "language": "python",
   "name": "python3"
  },
  "language_info": {
   "codemirror_mode": {
    "name": "ipython",
    "version": 3
   },
   "file_extension": ".py",
   "mimetype": "text/x-python",
   "name": "python",
   "nbconvert_exporter": "python",
   "pygments_lexer": "ipython3",
   "version": "3.5.4"
  }
 },
 "nbformat": 4,
 "nbformat_minor": 2
}
